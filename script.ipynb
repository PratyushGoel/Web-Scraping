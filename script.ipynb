{
 "cells": [
  {
   "cell_type": "code",
   "execution_count": 1,
   "metadata": {},
   "outputs": [],
   "source": [
    "from selenium import webdriver\n",
    "from bs4 import BeautifulSoup\n",
    "import pandas as pd\n",
    "import time"
   ]
  },
  {
   "cell_type": "code",
   "execution_count": 2,
   "metadata": {},
   "outputs": [
    {
     "data": {
      "text/plain": [
       "<selenium.webdriver.chrome.webdriver.WebDriver (session=\"119acac89e6a23621d2d2f6de30865f9\")>"
      ]
     },
     "execution_count": 2,
     "metadata": {},
     "output_type": "execute_result"
    }
   ],
   "source": [
    "driver = webdriver.Chrome(executable_path = '/Users/praty/Downloads/chromedriver/chromedriver.exe')\n",
    "driver"
   ]
  },
  {
   "cell_type": "code",
   "execution_count": 3,
   "metadata": {},
   "outputs": [],
   "source": [
    "driver.get('fake_url')\n",
    "time.sleep(10)"
   ]
  },
  {
   "cell_type": "code",
   "execution_count": 4,
   "metadata": {},
   "outputs": [],
   "source": [
    "username = driver.find_element_by_name('username')\n",
    "password = driver.find_element_by_name('password')\n",
    "time.sleep(2)"
   ]
  },
  {
   "cell_type": "code",
   "execution_count": 5,
   "metadata": {},
   "outputs": [],
   "source": [
    "username.send_keys('fake_email')\n",
    "password.send_keys('fake_password')"
   ]
  },
  {
   "cell_type": "code",
   "execution_count": 6,
   "metadata": {},
   "outputs": [],
   "source": [
    "username.submit()\n",
    "time.sleep(10)"
   ]
  },
  {
   "cell_type": "code",
   "execution_count": 7,
   "metadata": {},
   "outputs": [
    {
     "data": {
      "text/plain": [
       "<selenium.webdriver.remote.webelement.WebElement (session=\"119acac89e6a23621d2d2f6de30865f9\", element=\"7bfcc867-0723-48f3-a769-c33016811ac6\")>"
      ]
     },
     "execution_count": 7,
     "metadata": {},
     "output_type": "execute_result"
    }
   ],
   "source": [
    "searchField = driver.find_element_by_name('memberKeyword')\n",
    "searchField"
   ]
  },
  {
   "cell_type": "code",
   "execution_count": 8,
   "metadata": {},
   "outputs": [],
   "source": [
    "searchField.send_keys('olympus')"
   ]
  },
  {
   "cell_type": "code",
   "execution_count": 9,
   "metadata": {
    "scrolled": true
   },
   "outputs": [],
   "source": [
    "searchSubmit = driver.find_element_by_name('basicsubmit')\n",
    "searchSubmit\n",
    "searchSubmit.click()\n",
    "time.sleep(10)"
   ]
  },
  {
   "cell_type": "code",
   "execution_count": 10,
   "metadata": {},
   "outputs": [],
   "source": [
    "el = driver.find_element_by_name('datalist_length')\n",
    "for option in el.find_elements_by_tag_name('option'):\n",
    "    if option.text == '100':\n",
    "        option.click()\n",
    "        break"
   ]
  },
  {
   "cell_type": "code",
   "execution_count": 11,
   "metadata": {
    "scrolled": true
   },
   "outputs": [],
   "source": [
    "ppls = driver.find_elements_by_class_name('link')"
   ]
  },
  {
   "cell_type": "code",
   "execution_count": 12,
   "metadata": {},
   "outputs": [
    {
     "name": "stdout",
     "output_type": "stream",
     "text": [
      "      0           1        2              3      4      5     6        7\n",
      "0  Name  Profession  Company  Mobile Number  Phone  Email  city  Address\n"
     ]
    }
   ],
   "source": [
    "DF = pd.DataFrame([[\"Name\", \"Profession\", \"Company\", \"Mobile Number\", \"Phone\", \"Email\", \"city\", \"Address\"]])\n",
    "print (DF)"
   ]
  },
  {
   "cell_type": "code",
   "execution_count": 13,
   "metadata": {},
   "outputs": [],
   "source": [
    "for ppl in ppls:\n",
    "\n",
    "    ppl.click()\n",
    "    time.sleep(10)\n",
    "    driver.switch_to.window(driver.window_handles[-1])\n",
    "\n",
    "    data = BeautifulSoup(driver.page_source)\n",
    "    labels = data.find_all(\"label\")\n",
    "    temp = [\"Name\", \"Profession\", \"Company\", \"Mobile Number\", \"Phone\", \"Email\", \"city\", \"Address\"]\n",
    "\n",
    "    for label in labels:\n",
    "        span = label.find_all(\"span\")\n",
    "\n",
    "        if span[0].text == \"Display Name\":\n",
    "            temp[0] = span[1].text\n",
    "        if span[0].text == \"Profession\":\n",
    "            temp[1] = span[1].text\n",
    "        if span[0].text == \"Company\":\n",
    "            temp[2] = span[1].text\n",
    "        if span[0].text == \"Mobile Number\":\n",
    "            temp[3] = span[1].text\n",
    "        if span[0].text == \"Phone\":\n",
    "            temp[4] = span[1].text\n",
    "        if span[0].text == \"Email\":\n",
    "            temp[5] = span[1].text\n",
    "        if span[0].text == \"City\":\n",
    "            temp[6] = span[1].text\n",
    "        if span[0].text == \"Address\":\n",
    "            temp[7] = span[1].text\n",
    "    row_df = pd.DataFrame([temp])\n",
    "    DF = pd.concat(([DF, row_df]))\n",
    "    driver.close()\n",
    "    driver.switch_to.window(driver.window_handles[0])"
   ]
  },
  {
   "cell_type": "code",
   "execution_count": 14,
   "metadata": {},
   "outputs": [],
   "source": [
    "DF.to_csv('Olympus.csv')"
   ]
  }
 ],
 "metadata": {
  "kernelspec": {
   "display_name": "Python 3",
   "language": "python",
   "name": "python3"
  },
  "language_info": {
   "codemirror_mode": {
    "name": "ipython",
    "version": 3
   },
   "file_extension": ".py",
   "mimetype": "text/x-python",
   "name": "python",
   "nbconvert_exporter": "python",
   "pygments_lexer": "ipython3",
   "version": "3.7.3"
  }
 },
 "nbformat": 4,
 "nbformat_minor": 2
}
